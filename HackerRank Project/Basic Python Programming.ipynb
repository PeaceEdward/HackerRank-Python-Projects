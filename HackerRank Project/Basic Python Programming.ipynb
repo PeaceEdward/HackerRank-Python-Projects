{
 "cells": [
  {
   "cell_type": "code",
   "execution_count": 1,
   "id": "4b54d1b3",
   "metadata": {},
   "outputs": [
    {
     "name": "stdout",
     "output_type": "stream",
     "text": [
      "Hello, World!\n"
     ]
    }
   ],
   "source": [
    "#Say Hello World With Python\n",
    "print(\"Hello, World!\")"
   ]
  },
  {
   "cell_type": "code",
   "execution_count": 3,
   "id": "faee4f85",
   "metadata": {},
   "outputs": [
    {
     "name": "stdout",
     "output_type": "stream",
     "text": [
      "6\n",
      "Weird\n"
     ]
    }
   ],
   "source": [
    "#Python IfElse\n",
    "n = int(input().strip())\n",
    "if n%2 !=0:\n",
    "  print('Weird')\n",
    "elif n%2 ==0 and n in range(2,6):\n",
    "  print('Not Weird')\n",
    "elif n%2 ==0 and n in range(6,21):\n",
    "  print('Weird')    \n",
    "else:\n",
    "    print('Not Weird') "
   ]
  },
  {
   "cell_type": "code",
   "execution_count": 4,
   "id": "20ea57c4",
   "metadata": {},
   "outputs": [
    {
     "name": "stdout",
     "output_type": "stream",
     "text": [
      "5\n",
      "6\n",
      "11\n",
      "-1\n",
      "30\n"
     ]
    }
   ],
   "source": [
    "#Arithmetic Operators\n",
    "if __name__ == '__main__':\n",
    "    a = int(input())\n",
    "    b = int(input())\n",
    "c=a+b\n",
    "d=a-b\n",
    "e=a*b\n",
    "print(c)\n",
    "print(d)\n",
    "print(e)\n"
   ]
  },
  {
   "cell_type": "code",
   "execution_count": null,
   "id": "44a1a755",
   "metadata": {},
   "outputs": [],
   "source": [
    "#Python: Division\n",
    "if __name__ == '__main__':\n",
    "    a = int(input())\n",
    "    b = int(input())\n",
    "    \n",
    "print(a//b)\n",
    "print(a/b)"
   ]
  },
  {
   "cell_type": "code",
   "execution_count": null,
   "id": "12a656cd",
   "metadata": {},
   "outputs": [],
   "source": [
    "#Loop\n",
    "if __name__ == '__main__':\n",
    "    n = int(input())\n",
    "    for i in range(n):\n",
    "        print(i**2)"
   ]
  },
  {
   "cell_type": "code",
   "execution_count": null,
   "id": "56dc6278",
   "metadata": {},
   "outputs": [],
   "source": [
    "#Write a function\n",
    "def is_leap(year):\n",
    "    leap = False\n",
    "    \n",
    "    # Write your logic here\n",
    "    if year%4==0 and year%100 !=0:\n",
    "      leap= True\n",
    "    elif year%400==0 and year%4==0 and year%100==0:\n",
    "      leap=True\n",
    "    else:\n",
    "        leap=False  \n",
    "    \n",
    "    return leap\n",
    "\n",
    "year = int(input())\n",
    "print(is_leap(year))"
   ]
  },
  {
   "cell_type": "code",
   "execution_count": null,
   "id": "0c878a39",
   "metadata": {},
   "outputs": [],
   "source": [
    "#Print function\n",
    "if __name__ == '__main__':\n",
    "    n = int(input())\n",
    "    for x in range(1,n+1):\n",
    "      print(x,end=\"\") "
   ]
  }
 ],
 "metadata": {
  "kernelspec": {
   "display_name": "Python 3 (ipykernel)",
   "language": "python",
   "name": "python3"
  },
  "language_info": {
   "codemirror_mode": {
    "name": "ipython",
    "version": 3
   },
   "file_extension": ".py",
   "mimetype": "text/x-python",
   "name": "python",
   "nbconvert_exporter": "python",
   "pygments_lexer": "ipython3",
   "version": "3.9.13"
  }
 },
 "nbformat": 4,
 "nbformat_minor": 5
}
