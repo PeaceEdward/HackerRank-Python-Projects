{
 "cells": [
  {
   "cell_type": "code",
   "execution_count": null,
   "id": "4fc504bc",
   "metadata": {},
   "outputs": [],
   "source": [
    "#Detect Floating Point Number\n",
    "import re\n",
    "result=[]\n",
    "n=int(input())\n",
    "for i in range(n):\n",
    "    num=input()\n",
    "    if re.match(r'^[+\\-.]?\\d*\\.\\d+$', num):\n",
    "        try:\n",
    "            float(num)  \n",
    "            result.append('True')  \n",
    "        except ValueError:\n",
    "            result.append('False') \n",
    "    else:\n",
    "        result.append('False')  \n",
    "          \n",
    "for value in result:\n",
    "    print(value)     \n",
    "        "
   ]
  },
  {
   "cell_type": "code",
   "execution_count": null,
   "id": "f61d10b7",
   "metadata": {},
   "outputs": [],
   "source": [
    "#Re.split()\n",
    "regex_pattern = r\"[,.]\"\t# Do not delete 'r'.\n",
    "\n",
    "print(\"\\n\".join(re.split(regex_pattern, input())))"
   ]
  },
  {
   "cell_type": "code",
   "execution_count": null,
   "id": "412f293a",
   "metadata": {},
   "outputs": [],
   "source": [
    "#Group(), Groups() & Groupdict()\n",
    "s=input()\n",
    "for i in range(len(s)-1):\n",
    "    if s[i].isalnum() and s[i] == s[i+1]:\n",
    "        print(s[i])\n",
    "        break\n",
    "else:\n",
    "    print(\"-1\")\n",
    "        "
   ]
  },
  {
   "cell_type": "code",
   "execution_count": null,
   "id": "94534bf0",
   "metadata": {},
   "outputs": [],
   "source": [
    "#Re.findall() & Re.finditer()\n",
    "pattern = r\"[aeiouAEIOU^]?[aeiouAEIOU]{2,}[^aeiouAEIOU$]\"\n",
    "substr = re.findall(pattern,input())\n",
    "\n",
    "if substr:\n",
    "    [print(i[:-1]) for i in substr]\n",
    "else:\n",
    "    print(-1)"
   ]
  },
  {
   "cell_type": "code",
   "execution_count": null,
   "id": "6147735d",
   "metadata": {},
   "outputs": [],
   "source": [
    "#Re.start() and Re.end()\n",
    "S = input()\n",
    "k = input()\n",
    "pattern = re.compile(k)\n",
    "sub = pattern.search(S)\n",
    "if not sub: print(\"(-1, -1)\")\n",
    "while sub:\n",
    "    print(\"({0}, {1})\".format(sub.start(), sub.end() - 1))\n",
    "    sub = pattern.search(S,sub.start() + 1)\n"
   ]
  },
  {
   "cell_type": "code",
   "execution_count": null,
   "id": "ea3f5093",
   "metadata": {},
   "outputs": [],
   "source": [
    "#Regex substitution\n",
    "n = int(input())  \n",
    "for _ in range(n):\n",
    "    s = input()  \n",
    "    s = re.sub(r'(?<= )\\&\\&(?= )', 'and', s)  \n",
    "    s = re.sub(r'(?<= )\\|\\|(?= )', 'or', s)  \n",
    "    print(s)\n"
   ]
  },
  {
   "cell_type": "code",
   "execution_count": null,
   "id": "29a274c1",
   "metadata": {},
   "outputs": [],
   "source": [
    "#Validating Roman Numerals\n",
    "regex_pattern = r\"^M{0,3}(CM|CD|D?C{0,3})(XC|XL|L?X{0,3})(IX|IV|V?I{0,3})$\"\t# Do not delete 'r'.\n",
    "\n",
    "\n",
    "print(str(bool(re.match(regex_pattern, input()))))"
   ]
  },
  {
   "cell_type": "code",
   "execution_count": null,
   "id": "94c30bf1",
   "metadata": {},
   "outputs": [],
   "source": [
    "#Validating Phone Numbers\n",
    "for _ in range(int(input())):\n",
    "    print('YES' if bool(__import__('re').match('^[789]{1}\\d{9}$', input())) else 'NO')\n"
   ]
  },
  {
   "cell_type": "code",
   "execution_count": null,
   "id": "20836365",
   "metadata": {},
   "outputs": [],
   "source": [
    "#Validating and Parsing Email Address\n",
    "import email.utils\n",
    "\n",
    "n = int(input())\n",
    "email_addresses = [email.utils.parseaddr(input()) for i in range(n)]\n",
    "pattern= re.compile(r\"^([a-z]+[a-z0-9-_.]*)@([a-z]+)\\.([a-z]{1,3})$\")\n",
    "\n",
    "for emails in email_addresses:\n",
    "    if pattern.match(emails[1]):\n",
    "       print(email.utils.formataddr(emails))"
   ]
  },
  {
   "cell_type": "code",
   "execution_count": null,
   "id": "7957e5ce",
   "metadata": {},
   "outputs": [],
   "source": [
    "#Hex Color Code\n",
    "n=int(input())\n",
    "\n",
    "      \n",
    "pattern = \".#[0-9A-Fa-f]{3,6}\"\n",
    "\n",
    "for i in range(n):\n",
    "    code=input()\n",
    "    valid = re.findall(pattern, code)\n",
    "    \n",
    "    if valid:\n",
    "        for j in valid:\n",
    "            print(j[1:])"
   ]
  },
  {
   "cell_type": "code",
   "execution_count": null,
   "id": "076ed7e6",
   "metadata": {},
   "outputs": [],
   "source": [
    "#HTML Parser-Part 1\n",
    "from html.parser import HTMLParser\n",
    "class MyHTMLParser(HTMLParser):\n",
    "    def handle_starttag(self, tag, attrs):        \n",
    "        print ('Start :',tag)\n",
    "        for i in attrs:\n",
    "            print ('->',i[0],'>',i[1])\n",
    "            \n",
    "    def handle_endtag(self, tag):\n",
    "        print ('End   :',tag)\n",
    "        \n",
    "    def handle_startendtag(self, tag, attrs):\n",
    "        print ('Empty :',tag)\n",
    "        for i in attrs:\n",
    "            print ('->',i[0],'>',i[1])\n",
    "            \n",
    "MyParser = MyHTMLParser()\n",
    "MyParser.feed(''.join([input().strip() for _ in range(int(input()))]))\n"
   ]
  },
  {
   "cell_type": "code",
   "execution_count": null,
   "id": "20f8b382",
   "metadata": {},
   "outputs": [],
   "source": [
    "#HTML Parser-Part 2\n",
    "from html.parser import HTMLParser\n",
    "html = \"\"\n",
    "class MyHTMLParser(HTMLParser):\n",
    "    def handle_comment(self,data):\n",
    "        if('\\n' in data):\n",
    "            print(\">>> Multi-line Comment\")\n",
    "        else:\n",
    "            print(\">>> Single-line Comment\")\n",
    "        print(data)\n",
    "    def handle_data(self,data):\n",
    "        if(data != '\\n'):\n",
    "            print(\">>> Data\")\n",
    "            print(data)\n",
    "             \n",
    "for i in range(int(input())):\n",
    "    html += input().rstrip()\n",
    "    html += '\\n'\n",
    "\n",
    "parser = MyHTMLParser()\n",
    "parser.feed(html)\n",
    "parser.close()\n"
   ]
  },
  {
   "cell_type": "code",
   "execution_count": null,
   "id": "94525eff",
   "metadata": {},
   "outputs": [],
   "source": [
    "#Detect HTML Tags, Attributes and Attribute Values\n",
    "from html.parser import HTMLParser\n",
    "\n",
    "class MyHtmlParser(HTMLParser):\n",
    "    def handle_starttag(self, tag, attrs):\n",
    "        print(tag)\n",
    "        for i in attrs:\n",
    "            print(\"->\", i[0], \">\", i[1])\n",
    "\n",
    "\n",
    "parser = MyHtmlParser()\n",
    "for _ in range(int(input())):\n",
    "    parser.feed(input())\n"
   ]
  },
  {
   "cell_type": "code",
   "execution_count": null,
   "id": "2298527a",
   "metadata": {},
   "outputs": [],
   "source": [
    "#Validating UID\n",
    "n=int(input())\n",
    "for i in range(n):\n",
    "    str1=input()\n",
    "    pattern=r'^(?!.*(.).*\\1)(?=.*\\d.*\\d.*\\d)(?=.*[A-Z].*[A-Z])[A-Za-z\\d]{10}$'\n",
    "    if re.match(pattern,str1):\n",
    "        print('Valid')\n",
    "    else:\n",
    "        print('Invalid')    \n"
   ]
  },
  {
   "cell_type": "code",
   "execution_count": null,
   "id": "af754bd9",
   "metadata": {},
   "outputs": [],
   "source": [
    "#Validating Credit Card Numbers\n",
    "n=int(input())\n",
    "for i in range(n):\n",
    "    pattern=r'^(?!.*(\\d)(-?\\1){3})[456]\\d{3}(-?\\d{4}){3}$'\n",
    "    string=input()\n",
    "    if re.match(pattern,string):\n",
    "        print('Valid')\n",
    "    else:\n",
    "        print('Invalid')"
   ]
  },
  {
   "cell_type": "code",
   "execution_count": null,
   "id": "074d434c",
   "metadata": {},
   "outputs": [],
   "source": [
    "#Validating Postal Codes\n",
    "regex_integer_in_range = r\"^[1-9]\\d{5}$\"\t# Do not delete 'r'.\n",
    "regex_alternating_repetitive_digit_pair = r\"(\\d)(?=\\d\\1)\"\t# Do not delete 'r'.\n",
    "\n",
    "P = input()\n",
    "\n",
    "print (bool(re.match(regex_integer_in_range, P)) \n",
    "and len(re.findall(regex_alternating_repetitive_digit_pair, P)) < 2)"
   ]
  },
  {
   "cell_type": "code",
   "execution_count": null,
   "id": "3d7ce1a6",
   "metadata": {},
   "outputs": [],
   "source": [
    "#Matrix Script\n",
    "import math\n",
    "import os\n",
    "import random\n",
    "import sys\n",
    "\n",
    "\n",
    "\n",
    "\n",
    "first_multiple_input = input().rstrip().split()\n",
    "\n",
    "n = int(first_multiple_input[0])\n",
    "\n",
    "m = int(first_multiple_input[1])\n",
    "\n",
    "matrix = []\n",
    "\n",
    "for _ in range(n):\n",
    "    value = input()\n",
    "    matrix.append(value)\n",
    "string = \" \"\n",
    "for i in range(m):\n",
    "    for j in range(n):\n",
    "        string += (matrix[j][i])\n",
    "pattern= r\"\\b\\W+\\b\"\n",
    "string = re.sub(pattern,\" \", string)\n",
    "print(string)\n"
   ]
  }
 ],
 "metadata": {
  "kernelspec": {
   "display_name": "Python 3 (ipykernel)",
   "language": "python",
   "name": "python3"
  },
  "language_info": {
   "codemirror_mode": {
    "name": "ipython",
    "version": 3
   },
   "file_extension": ".py",
   "mimetype": "text/x-python",
   "name": "python",
   "nbconvert_exporter": "python",
   "pygments_lexer": "ipython3",
   "version": "3.9.13"
  }
 },
 "nbformat": 4,
 "nbformat_minor": 5
}
