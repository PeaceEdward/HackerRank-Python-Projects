{
 "cells": [
  {
   "cell_type": "code",
   "execution_count": null,
   "id": "40892bb1",
   "metadata": {},
   "outputs": [],
   "source": [
    "#List Comprehensions\n",
    "if __name__ == '__main__':\n",
    "    x = int(input())\n",
    "    y = int(input())\n",
    "    z = int(input())\n",
    "    n = int(input())\n",
    " \n",
    "permutation=[[i,j,k] for i in range(x+1) for j in range(y+1) for k in range(z+1) if (i+j+k)!=n]\n",
    "print(permutation)\n"
   ]
  },
  {
   "cell_type": "code",
   "execution_count": null,
   "id": "b3ca482a",
   "metadata": {},
   "outputs": [],
   "source": [
    "#Find the Runner-Up Score\n",
    "if __name__ == '__main__':\n",
    "    n = int(input())\n",
    "    arr = map(int, input().split())\n",
    "sort_arr=sorted(set(arr),reverse=True)\n",
    "print(sort_arr[1])"
   ]
  },
  {
   "cell_type": "code",
   "execution_count": null,
   "id": "5f7e99a0",
   "metadata": {},
   "outputs": [],
   "source": [
    "#Nested Lists\n",
    "if __name__ == '__main__':\n",
    "    for _ in range(int(input())):\n",
    "        name = input()\n",
    "        score = float(input())\n",
    "        records=[]\n",
    "        records.append([name,score])\n",
    "scores=set([record[1] for record in records])\n",
    "second_lowest= sorted(score)[1]\n",
    "names=[record[0] for record in records if record[1]==second_lowest]\n",
    "for name in names:\n",
    "    print(name)"
   ]
  },
  {
   "cell_type": "code",
   "execution_count": null,
   "id": "f2857cd0",
   "metadata": {},
   "outputs": [],
   "source": [
    "#Finding The Percentage\n",
    "if __name__ == '__main__':\n",
    "    n = int(input())\n",
    "    student_marks = {}\n",
    "    for _ in range(n):\n",
    "        name, *line = input().split()\n",
    "        scores = list(map(float, line))\n",
    "        student_marks[name] = scores\n",
    "    query_name = input()\n",
    "if query_name in student_marks:\n",
    "    scores= student_marks[query_name]\n",
    "    mean= sum(scores)/len(scores)\n",
    "    print(\"{:.2f}\".format(mean)"
   ]
  },
  {
   "cell_type": "code",
   "execution_count": null,
   "id": "fc89a067",
   "metadata": {},
   "outputs": [],
   "source": [
    "#Lists\n",
    "if __name__ == '__main__':\n",
    "    N = int(input())\n",
    "    lst=[]\n",
    "for i in range(N):\n",
    "    command= input().split()\n",
    "    if command[0]== 'insert':\n",
    "        lst.insert(int(command[1]),int(command[2]))\n",
    "    elif command[0]=='print':\n",
    "        print(lst) \n",
    "    elif command[0]=='remove':\n",
    "        lst.remove(int(command[1])) \n",
    "    elif command[0]=='append':\n",
    "        lst.append(int(command[1]))\n",
    "    elif command[0]=='sort':\n",
    "        lst.sort()\n",
    "    elif command[0]=='pop':\n",
    "        lst.pop()\n",
    "    elif command[0]=='reverse':\n",
    "        lst.reverse()          "
   ]
  },
  {
   "cell_type": "code",
   "execution_count": null,
   "id": "4cf1137c",
   "metadata": {},
   "outputs": [],
   "source": [
    "#Tuples\n",
    "n=int(input())\n",
    "int_list=map(int, input().split())\n",
    "t=tuple(int_list)\n",
    "print(hash(t)) \n"
   ]
  },
  {
   "cell_type": "code",
   "execution_count": null,
   "id": "294f5baa",
   "metadata": {},
   "outputs": [],
   "source": [
    "#Introduction To Sets\n",
    "def average(array):\n",
    "    # your code goes here\n",
    "    values=set(array)\n",
    "    avg=sum(values)/len(values)\n",
    "    return avg \n",
    "if __name__ == '__main__':\n",
    "    n = int(input())\n",
    "    arr = list(map(int, input().split()))\n",
    "    result = average(arr)\n",
    "    print(result)"
   ]
  },
  {
   "cell_type": "code",
   "execution_count": null,
   "id": "c729a647",
   "metadata": {},
   "outputs": [],
   "source": [
    "#No Idea\n",
    "happiness = 0\n",
    "n, m = map(int, input().split())\n",
    "array = list(map(int, input().split()))\n",
    "A = set(map(int, input().split()))\n",
    "B = set(map(int, input().split()))\n",
    "\n",
    "for v in array:\n",
    "    if v in A:\n",
    "        happiness += 1\n",
    "    elif v in B:\n",
    "        happiness -= 1\n",
    "\n",
    "print(happiness)\n"
   ]
  },
  {
   "cell_type": "code",
   "execution_count": null,
   "id": "f5c86c7c",
   "metadata": {},
   "outputs": [],
   "source": [
    "#Symmetric Difference\n",
    "M=int(input())\n",
    "a=set(map(int, input().split()))\n",
    "N=int(input())\n",
    "b=set(map(int, input().split()))\n",
    "lst=set()\n",
    "\n",
    "for i in a.union(b):\n",
    "    if i in a and i not in b:\n",
    "        lst.update({i})\n",
    "    elif i in b and i not in a:\n",
    "        lst.update({i})    \n",
    "v=sorted(list(lst))\n",
    "for items in v:\n",
    "    print(items)"
   ]
  },
  {
   "cell_type": "code",
   "execution_count": null,
   "id": "063349b2",
   "metadata": {},
   "outputs": [],
   "source": [
    "#Set.add\n",
    "N =int(input())\n",
    "cntry=set()\n",
    "for _ in range(N):\n",
    "    country=input()\n",
    "    cntry.add(country)\n",
    "print(len(cntry)) \n",
    "    "
   ]
  },
  {
   "cell_type": "code",
   "execution_count": null,
   "id": "4b720fd7",
   "metadata": {},
   "outputs": [],
   "source": [
    "#Set .discard(), .remove() & .pop()\n",
    "n = int(input())\n",
    "s = set(map(int, input().split()))\n",
    "m=int(input())\n",
    "for _ in range(m):\n",
    "    command=input().split()\n",
    "    if command[0]== 'pop':\n",
    "      s.pop()\n",
    "    elif command[0]=='remove':\n",
    "        s.remove(int(command[1]))\n",
    "    else:\n",
    "     s.discard(int(command[1]))\n",
    "          \n",
    "print(sum(s)) \n"
   ]
  },
  {
   "cell_type": "code",
   "execution_count": null,
   "id": "096cffc2",
   "metadata": {},
   "outputs": [],
   "source": [
    "#Set .union() Operation\n",
    "n=int(input())\n",
    "a=set(map(int,input().split()))\n",
    "m=int(input())\n",
    "b=set(map(int,input().split()))\n",
    "subscribers=a.union(b)\n",
    "print(len(subscribers))\n"
   ]
  },
  {
   "cell_type": "code",
   "execution_count": null,
   "id": "1e74e488",
   "metadata": {},
   "outputs": [],
   "source": [
    "#Set.intersection() Operation\n",
    "n=int(input())\n",
    "a=set(map(int,input().split()))\n",
    "m=int(input())\n",
    "b=set(map(int,input().split()))\n",
    "subscribers=a.intersection(b)\n",
    "print(len(subscribers))"
   ]
  },
  {
   "cell_type": "code",
   "execution_count": null,
   "id": "b607d9fd",
   "metadata": {},
   "outputs": [],
   "source": [
    "#Set .difference() Operation\n",
    "n=int(input())\n",
    "a=set(map(int,input().split()))\n",
    "m=int(input())\n",
    "b=set(map(int,input().split()))\n",
    "subscribers=a.difference(b)\n",
    "print(len(subscribers))"
   ]
  },
  {
   "cell_type": "code",
   "execution_count": null,
   "id": "a2dcd640",
   "metadata": {},
   "outputs": [],
   "source": [
    "#Set .symmetric_difference() Operation\n",
    "n=int(input())\n",
    "a=set(map(int,input().split()))\n",
    "m=int(input())\n",
    "b=set(map(int,input().split()))\n",
    "subscribers=a.symmetric_difference(b)\n",
    "print(len(subscribers))\n"
   ]
  },
  {
   "cell_type": "code",
   "execution_count": null,
   "id": "bd96ce96",
   "metadata": {},
   "outputs": [],
   "source": [
    "#Set Mutations\n",
    "n=int(input())\n",
    "A=set(map(int,input().split()))\n",
    "m=int(input())\n",
    "for _ in range(m):\n",
    "    command=input().split()\n",
    "    if command[0]=='intersection_update':\n",
    "        B=set(map(int,input().split()))\n",
    "        A.intersection_update(B)\n",
    "    elif command[0]=='update':\n",
    "        C=set(map(int,input().split()))\n",
    "        A.update(C)\n",
    "    elif command[0]=='symmetric_difference_update':\n",
    "        D=set(map(int,input().split()))\n",
    "        A.symmetric_difference_update(D)\n",
    "    elif command[0]=='difference_update':\n",
    "        E=set(map(int,input().split()))\n",
    "        A.difference_update(E)\n",
    "print(sum(A))        "
   ]
  },
  {
   "cell_type": "code",
   "execution_count": null,
   "id": "a1e7d5a6",
   "metadata": {},
   "outputs": [],
   "source": [
    "#The Captain's Room\n",
    "n=int(input())\n",
    "room_no_list=map(int,input().split())\n",
    "count_list={}\n",
    "for i in room_no_list:\n",
    "    if i not in count_list:\n",
    "        count_list[i]=1\n",
    "    elif i in count_list:\n",
    "        count_list[i]+=1\n",
    "for i,j in count_list.items():\n",
    "    if j==1:\n",
    "        print(i)"
   ]
  },
  {
   "cell_type": "code",
   "execution_count": null,
   "id": "0a5eef7a",
   "metadata": {},
   "outputs": [],
   "source": [
    "#Check Subset\n",
    "t=int(input())\n",
    "result=[]\n",
    "for _ in range(t):\n",
    "    n=int(input())\n",
    "    A=set(map(int,input().split()[:n]))\n",
    "    m=int(input())\n",
    "    B=set(map(int,input().split()[:m]))\n",
    "    if A.issubset(B):\n",
    "      result.append('True')\n",
    "    else:\n",
    "      result.append('False') \n",
    "         \n",
    "print('\\n'.join(result))\n"
   ]
  },
  {
   "cell_type": "code",
   "execution_count": null,
   "id": "b173bfe0",
   "metadata": {},
   "outputs": [],
   "source": [
    "#Check Strict Superset\n",
    "A=set(map(int, input().split()))\n",
    "n=int(input())\n",
    "is_superset='True'\n",
    "for _ in range(n):\n",
    "    B=set(map(int, input().split()))\n",
    "    if not A.issuperset(B):\n",
    "        is_superset='False'\n",
    "        break\n",
    "    \n",
    "    if len(A)==len(B):\n",
    "        is_superset='False'\n",
    "        break\n",
    "        \n",
    "print(is_superset)"
   ]
  },
  {
   "cell_type": "code",
   "execution_count": null,
   "id": "d5008977",
   "metadata": {},
   "outputs": [],
   "source": []
  }
 ],
 "metadata": {
  "kernelspec": {
   "display_name": "Python 3 (ipykernel)",
   "language": "python",
   "name": "python3"
  },
  "language_info": {
   "codemirror_mode": {
    "name": "ipython",
    "version": 3
   },
   "file_extension": ".py",
   "mimetype": "text/x-python",
   "name": "python",
   "nbconvert_exporter": "python",
   "pygments_lexer": "ipython3",
   "version": "3.9.13"
  }
 },
 "nbformat": 4,
 "nbformat_minor": 5
}
