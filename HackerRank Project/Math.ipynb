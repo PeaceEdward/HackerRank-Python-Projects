{
 "cells": [
  {
   "cell_type": "code",
   "execution_count": null,
   "id": "11c4aae2",
   "metadata": {},
   "outputs": [],
   "source": [
    "#Polar Cordinates\n",
    "import cmath\n",
    "y = complex(input().strip())  \n",
    "r, phi = cmath.polar(y)       \n",
    "print(r)         \n",
    "print(phi)"
   ]
  },
  {
   "cell_type": "code",
   "execution_count": null,
   "id": "7ea738c9",
   "metadata": {},
   "outputs": [],
   "source": [
    "#Find Angle MBC\n",
    "import math\n",
    "AB=float(input())\n",
    "BC=float(input())\n",
    "angle=math.atan(AB/BC)\n",
    "\n",
    "\n",
    "print((round(math.degrees(angle))),chr(176),sep='')\n"
   ]
  },
  {
   "cell_type": "code",
   "execution_count": null,
   "id": "c202bbdf",
   "metadata": {},
   "outputs": [],
   "source": [
    "#Triangle Quest 2\n",
    "for i in range(1,int(input())+1): \n",
    "     print(int((1/9)*10**i)**2)\n"
   ]
  },
  {
   "cell_type": "code",
   "execution_count": null,
   "id": "210bdb1b",
   "metadata": {},
   "outputs": [],
   "source": [
    "#Mod Divmod\n",
    "a=int(input())\n",
    "b=int(input())\n",
    "print(a//b)\n",
    "print(a%b)\n",
    "print(divmod(a,b))\n"
   ]
  },
  {
   "cell_type": "code",
   "execution_count": null,
   "id": "4cf749d3",
   "metadata": {},
   "outputs": [],
   "source": [
    "#Power- Mod Power\n",
    "a=int(input())\n",
    "b=int(input())\n",
    "m=int(input())\n",
    "print(pow(a,b))\n",
    "print(pow(a,b,m))\n"
   ]
  },
  {
   "cell_type": "code",
   "execution_count": null,
   "id": "46f3ab1e",
   "metadata": {},
   "outputs": [],
   "source": [
    "#Integers Come In All Sizes\n",
    "a=int(input())\n",
    "b=int(input())\n",
    "c=int(input())\n",
    "d=int(input())\n",
    "print(a**b+c**d)\n"
   ]
  },
  {
   "cell_type": "code",
   "execution_count": null,
   "id": "af75ead7",
   "metadata": {},
   "outputs": [],
   "source": [
    "#Triangle Quest\n",
    "for i in range(1,int(input())): \n",
    "    print ((10**i // 9) * i)\n"
   ]
  }
 ],
 "metadata": {
  "kernelspec": {
   "display_name": "Python 3 (ipykernel)",
   "language": "python",
   "name": "python3"
  },
  "language_info": {
   "codemirror_mode": {
    "name": "ipython",
    "version": 3
   },
   "file_extension": ".py",
   "mimetype": "text/x-python",
   "name": "python",
   "nbconvert_exporter": "python",
   "pygments_lexer": "ipython3",
   "version": "3.9.13"
  }
 },
 "nbformat": 4,
 "nbformat_minor": 5
}
